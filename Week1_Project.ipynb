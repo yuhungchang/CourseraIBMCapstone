{
    "nbformat_minor": 1, 
    "cells": [
        {
            "source": "# Coursera Capstone Project\n ####  Note: this notebook will be mainly used for the capstone project. \n\n## Week1\n__Create Jupyter Notebook for Capstone project work__\n#### Week 1 - Assignment Details\n\n> 1. Write some markdown to explain that this notebook will be mainly used for the capstone project.\n> 1. Import the pandas library as pd.\n> 1. Import the Numpy library as np.\n> 1. Print the following the statement: Hello Capstone Project Course!", 
            "cell_type": "markdown", 
            "metadata": {
                "collapsed": true
            }
        }, 
        {
            "execution_count": 2, 
            "cell_type": "code", 
            "metadata": {}, 
            "outputs": [], 
            "source": "import pandas as pd\nimport numpy as np"
        }, 
        {
            "execution_count": 3, 
            "cell_type": "code", 
            "metadata": {}, 
            "outputs": [
                {
                    "output_type": "stream", 
                    "name": "stdout", 
                    "text": "Hello Capstone Project Course!\n"
                }
            ], 
            "source": "print(\"Hello Capstone Project Course!\")"
        }, 
        {
            "execution_count": null, 
            "cell_type": "code", 
            "metadata": {}, 
            "outputs": [], 
            "source": ""
        }
    ], 
    "metadata": {
        "kernelspec": {
            "display_name": "Python 3.5", 
            "name": "python3", 
            "language": "python"
        }, 
        "language_info": {
            "mimetype": "text/x-python", 
            "nbconvert_exporter": "python", 
            "version": "3.5.5", 
            "name": "python", 
            "file_extension": ".py", 
            "pygments_lexer": "ipython3", 
            "codemirror_mode": {
                "version": 3, 
                "name": "ipython"
            }
        }
    }, 
    "nbformat": 4
}
